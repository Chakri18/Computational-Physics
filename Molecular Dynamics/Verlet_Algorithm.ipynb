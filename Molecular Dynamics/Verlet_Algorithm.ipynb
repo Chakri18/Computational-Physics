{
 "cells": [
  {
   "cell_type": "markdown",
   "metadata": {},
   "source": [
    "### Basic Verlet Algorithm for Molecular Simulation"
   ]
  },
  {
   "cell_type": "markdown",
   "metadata": {},
   "source": [
    "### Importing the necessary modules "
   ]
  },
  {
   "cell_type": "code",
   "execution_count": 13,
   "metadata": {},
   "outputs": [
    {
     "data": {
      "text/html": [
       "<div id=\"glowscript\" class=\"glowscript\"></div>"
      ],
      "text/plain": [
       "<IPython.core.display.HTML object>"
      ]
     },
     "metadata": {},
     "output_type": "display_data"
    },
    {
     "data": {
      "application/javascript": [
       "if (typeof Jupyter !== \"undefined\") { window.__context = { glowscript_container: $(\"#glowscript\").removeAttr(\"id\")};}else{ element.textContent = ' ';}"
      ],
      "text/plain": [
       "<IPython.core.display.Javascript object>"
      ]
     },
     "metadata": {},
     "output_type": "display_data"
    }
   ],
   "source": [
    "import numpy as np\n",
    "from matplotlib.pylab import *\n",
    "%matplotlib inline\n",
    "import vpython as vp\n",
    "from vpython import *\n",
    "scene = vp.canvas()"
   ]
  },
  {
   "cell_type": "markdown",
   "metadata": {},
   "source": [
    "### Defining the function for uniform random numbers "
   ]
  },
  {
   "cell_type": "code",
   "execution_count": null,
   "metadata": {},
   "outputs": [],
   "source": [
    "def crand(seed = 1345678,up = 19,low = 1):\n",
    "    #seed = 1345678\n",
    "    a = 11\n",
    "    m = 10000\n",
    "    l = []\n",
    "    for i in range(100):\n",
    "        seed = (seed*(a**i))%m\n",
    "        l.append(((seed/m)*(up-low))+low)\n",
    "    np.random.shuffle(l)\n",
    "    b = l[:3]\n",
    "    return b"
   ]
  },
  {
   "cell_type": "markdown",
   "metadata": {},
   "source": [
    "### Defining a function for distances"
   ]
  },
  {
   "cell_type": "code",
   "execution_count": null,
   "metadata": {},
   "outputs": [],
   "source": [
    "def dist_tp(l1,l2):\n",
    "    dx = l1[0] - l2[0]\n",
    "    dy = l1[1] - l2[1]\n",
    "    dz = l1[2] - l2[2]\n",
    "    dx = dx - Lx*int(round((1.0*dx)/Lx))\n",
    "    dy = dy - Ly*int(round((1.0*dy)/Ly))\n",
    "    dz = dz - Lz*int(round((1.0*dz)/Lz))\n",
    "    return(dx**2+dy**2+dz**2)"
   ]
  },
  {
   "cell_type": "markdown",
   "metadata": {},
   "source": [
    "### Function for calculating the force using lennard Jones Potential"
   ]
  },
  {
   "cell_type": "code",
   "execution_count": null,
   "metadata": {},
   "outputs": [],
   "source": [
    "def f(dx,dy,dz):\n",
    "    f1 = 48*((dx**2+dy**2+dz**2)**(-14) - 0.5*(dx**2+dy**2+dz**2)**(-8))*dx\n",
    "    f2 = 48*((dx**2+dy**2+dz**2)**(-14) - 0.5*(dx**2+dy**2+dz**2)**(-8))*dy\n",
    "    f3 = 48*((dx**2+dy**2+dz**2)**(-14) - 0.5*(dx**2+dy**2+dz**2)**(-8))*dz\n",
    "    return(f1,f2,f3)"
   ]
  },
  {
   "cell_type": "markdown",
   "metadata": {},
   "source": [
    "### Initializing the initial positions to the particles "
   ]
  },
  {
   "cell_type": "code",
   "execution_count": null,
   "metadata": {},
   "outputs": [],
   "source": [
    "Lx = 20\n",
    "Ly = 20\n",
    "Lz = 20 \n",
    "sigma = 2\n",
    "t = 0 \n",
    "nop = 100\n",
    "rc = (sigma**(1.0/6))*sigma"
   ]
  },
  {
   "cell_type": "markdown",
   "metadata": {},
   "source": [
    "### Assigning the positions to the particles one by one "
   ]
  },
  {
   "cell_type": "code",
   "execution_count": null,
   "metadata": {},
   "outputs": [],
   "source": [
    "pos = []\n",
    "pos.append(crand())\n",
    "for i in range(1,nop):\n",
    "    dist = []\n",
    "    l = crand() \n",
    "    for j in range(i):\n",
    "        dist.append(dist_tp(l,pos[j]))\n",
    "    while min(dist) <= 4:\n",
    "        dist = []\n",
    "        l = crand()\n",
    "        for j in range(i):\n",
    "            dist.append(dist_tp(l,pos[j]))\n",
    "    pos.append(l)"
   ]
  },
  {
   "cell_type": "markdown",
   "metadata": {},
   "source": [
    " ### Assigning initial velocities between -1 and 1"
   ]
  },
  {
   "cell_type": "code",
   "execution_count": null,
   "metadata": {},
   "outputs": [],
   "source": [
    "velocity = []\n",
    "vx = []\n",
    "vy = []\n",
    "vz = []\n",
    "for i in range(nop):\n",
    "    velocity.append(crand(up=1.0,low=-1.0))    \n",
    "    vx.append(velocity[i][0])\n",
    "    vy.append(velocity[i][1])\n",
    "    vz.append(velocity[i][2]) "
   ]
  },
  {
   "cell_type": "markdown",
   "metadata": {},
   "source": [
    "### Scaling momentum to zero"
   ]
  },
  {
   "cell_type": "code",
   "execution_count": null,
   "metadata": {},
   "outputs": [],
   "source": [
    "px = 0\n",
    "py = 0 \n",
    "pz = 0 \n",
    "for i in range(nop):\n",
    "    px += vx[i]\n",
    "    py += vy[i]\n",
    "    pz += vz[i]   \n",
    "for i in range(nop):\n",
    "    vx[i] -= (px/nop)\n",
    "    vy[i] -= (py/nop)\n",
    "    vz[i] -= (pz/nop)   "
   ]
  },
  {
   "cell_type": "markdown",
   "metadata": {},
   "source": [
    "### Velocity Rescaling"
   ]
  },
  {
   "cell_type": "code",
   "execution_count": null,
   "metadata": {},
   "outputs": [],
   "source": [
    "T_init = 300\n",
    "temp = sum(vx[i]**2 + vy[i]**2 + vz[i]**2 for i in range(nop))\n",
    "temp /= (3*nop)\n",
    "alpha = (T_init/temp)**0.5\n",
    "for i in range(nop):\n",
    "    vx[i] *= alpha\n",
    "    vy[i] *= alpha\n",
    "    vz[i] *= alpha\n",
    "temp = sum(vx[i]**2 + vy[i]**2 + vz[i]**2 for i in range(nop))\n",
    "temp /= (3*nop) "
   ]
  },
  {
   "cell_type": "markdown",
   "metadata": {},
   "source": [
    "### Declaring the variables and lists for storing different parameters of the program"
   ]
  },
  {
   "cell_type": "code",
   "execution_count": null,
   "metadata": {},
   "outputs": [],
   "source": [
    "t = 0 ; tmax = 1 ; nt = 500 ; dt = float(tmax/nt)\n",
    "px = 0; py = 0; pz = 0; P1a = [] ; P2a = [] \n",
    "rx = np.array([pos[i][0] for i in range(nop)]); ry = np.array([pos[i][1] for i in range(nop)]); rz = np.array([pos[i][2] for i in range(nop)])\n",
    "rox = np.zeros(nop); roy = np.zeros(nop); roz = np.zeros(nop)\n",
    "rnx = np.zeros(nop); rny = np.zeros(nop); rnz = np.zeros(nop)\n",
    "fx = np.zeros(nop); fy = np.zeros(nop); fz = np.zeros(nop)\n",
    "vnx = np.zeros(nop); vny = np.zeros(nop); vnz = np.zeros(nop)\n",
    "px1 = []; py1 = []; pz1 =[]; fx1 = []; fy1 = []; fz1 = []; Temp = []"
   ]
  },
  {
   "cell_type": "markdown",
   "metadata": {},
   "source": [
    "### Calculating the position of the particles at previous time step"
   ]
  },
  {
   "cell_type": "code",
   "execution_count": null,
   "metadata": {},
   "outputs": [],
   "source": [
    "for i in range(nop-1):\n",
    "    a=0;b=0;c=0\n",
    "    for j in range(i+1,nop):\n",
    "        dx = rx[i] - rx[j];dy = ry[i] - ry[j]; dz = rz[i] - rz[j]\n",
    "        dx = dx - Lx*int(round((1.0*dx)/Lx));dy = dy - Ly*int(round((1.0*dy)/Ly));dz = dz - Lz*int(round((1.0*dz)/Lz))\n",
    "        r = dx**2+dy**2+dz**2\n",
    "        if (r**0.5) < rc:\n",
    "            a,b,c = f(dx,dy,dz)\n",
    "        fx[i] += a; fx[j] -= a\n",
    "        fy[i] += b; fy[j] -= b\n",
    "        fz[i] += c; fz[j] -= c\n",
    "for i in range(nop):\n",
    "    rox[i] = rx[i] - vx[i]*dt + 0.5*fx[i]*(dt**2)\n",
    "    roy[i] = ry[i] - vy[i]*dt + 0.5*fy[i]*(dt**2)\n",
    "    roz[i] = rz[i] - vz[i]*dt + 0.5*fz[i]*(dt**2)"
   ]
  },
  {
   "cell_type": "markdown",
   "metadata": {},
   "source": [
    "### Time loop "
   ]
  },
  {
   "cell_type": "code",
   "execution_count": null,
   "metadata": {},
   "outputs": [],
   "source": [
    "\n",
    "for i in range(nop-1):\n",
    "    a=0;b=0;c=0\n",
    "    for j in range(i+1,nop):\n",
    "        dx = rx[i] - rx[j];dy = ry[i] - ry[j]; dz = rz[i] - rz[j]\n",
    "        dx = dx - Lx*int(round((1.0*dx)/Lx));dy = dy - Ly*int(round((1.0*dy)/Ly));dz = dz - Lz*int(round((1.0*dz)/Lz))\n",
    "        r = dx**2+dy**2+dz**2\n",
    "        if (r**0.5) < rc:\n",
    "            a,b,c = f(dx,dy,dz)\n",
    "        fx[i] += a; fx[j] -= a\n",
    "        fy[i] += b; fy[j] -= b\n",
    "        fz[i] += c; fz[j] -= c\n",
    "for i in range(nop):\n",
    "    rox[i] = rx[i] - vx[i]*dt + 0.5*fx[i]*(dt**2)\n",
    "    roy[i] = ry[i] - vy[i]*dt + 0.5*fy[i]*(dt**2)\n",
    "    roz[i] = rz[i] - vz[i]*dt + 0.5*fz[i]*(dt**2)\n",
    "\n",
    "while t <= tmax:\n",
    "    c0 = 0;c1=0;c2=0;c3=0;c4=0;c5=0;c6=0;\n",
    "    P1 = 0; P2 = 0\n",
    "    fx = np.zeros(nop); fy = np.zeros(nop); fz = np.zeros(nop)\n",
    "    for i in range(nop-1):\n",
    "        for j in range(i+1,nop):\n",
    "            dx = rx[i] - rx[j];dy = ry[i] - ry[j]; dz = rz[i] - rz[j]\n",
    "            dx = dx - Lx*int(round((1.0*dx)/Lx));dy = dy - Ly*int(round((1.0*dy)/Ly));dz = dz - Lz*int(round((1.0*dz)/Lz))\n",
    "            r = dx**2+dy**2+dz**2\n",
    "            if (r**0.5) < rc:\n",
    "                a,b,c = f(dx,dy,dz)\n",
    "            fx[i] += a; fx[j] -= a\n",
    "            fy[i] += b; fy[j] -= b\n",
    "            fz[i] += c; fz[j] -= c  \n",
    "            P1+= fx[i]*dx + fy[i]*dy + fz[i]*dz\n",
    "    for i in range(nop):\n",
    "        rnx[i] = 2*rx[i] - rox[i] + fx[i]*dt**2\n",
    "        rny[i] = 2*ry[i] - roy[i] + fy[i]*dt**2\n",
    "        rnz[i] = 2*rz[i] - roz[i] + fz[i]*dt**2\n",
    "        if rnx[i] > 50 or rny[i] > 50 or rnz[i] > 50:\n",
    "            rnx[i] -= Lx\n",
    "            rny[i] -= Ly\n",
    "            rnz[i] -= Lz\n",
    "        if rnx[i] < 0 or rny[i] < 0 or rnz[i] < 0:\n",
    "            rnx[i] +=Lx\n",
    "            rny[i] +=Ly\n",
    "            rnz[i] +=Lz\n",
    "        vnx[i] = vx[i] + fx[i]*dt\n",
    "        vny[i] = vy[i] + fy[i]*dt\n",
    "        vnz[i] = vz[i] + fz[i]*dt\n",
    "        \n",
    "    for i in range(nop):\n",
    "        c0 += vnx[i]**2+vny[i]**2+vnz[i]**2\n",
    "        c1 += vnx[i];c2 += vny[i];c3 += vnz[i];c4 += fx[i];c5 += fy[i]; c6 += fz[i]\n",
    "    vol = Lx*Ly*Lz\n",
    "    nd = nop/(1.0*Lx*Ly*Lz)\n",
    "    P1/=vol\n",
    "    P2 = nd*(c0/(3*nop))\n",
    "    Temp.append(c0/(3*nop)); px1.append(c1); py1.append(c2);pz1.append(c3);fx1.append(c4);fy1.append(c5);fz1.append(c6)      \n",
    "    P1a.append(P1); P2a.append(P2)\n",
    "    rox = rx; roy = ry; roz = rz\n",
    "    rx = rnx; ry = rny; rz = rnz\n",
    "    t += dt"
   ]
  },
  {
   "cell_type": "markdown",
   "metadata": {},
   "source": [
    "### Plotting the dynamics of physical parameters of the simulation"
   ]
  },
  {
   "cell_type": "code",
   "execution_count": null,
   "metadata": {},
   "outputs": [],
   "source": [
    "figure(figsize = (18,5))    \n",
    "tvec = linspace(0,tmax,nt)\n",
    "xlabel('time(sec)')\n",
    "ylabel('Temperature(K)')\n",
    "scatter(tvec,Temp)\n",
    "show()\n",
    "#----------------------------\n",
    "figure(figsize = (20,5))\n",
    "subplot(1,3,1)\n",
    "xlabel('time(sec)')\n",
    "ylabel('Momentum(Px)')\n",
    "plot(tvec,px1)\n",
    "subplot(1,3,2)\n",
    "xlabel('time(sec)')\n",
    "ylabel('Momentum(Py)')\n",
    "plot(tvec,py1)\n",
    "subplot(1,3,3)\n",
    "xlabel('time(sec)')\n",
    "ylabel('Momentum(Pz)')\n",
    "plot(tvec,pz1)\n",
    "show()\n",
    "#----------------------------\n",
    "figure(figsize = (18,5))\n",
    "subplot(1,3,1)\n",
    "xlabel('time(sec)')\n",
    "ylabel('Force(Fx)')\n",
    "plot(tvec,fx1)\n",
    "subplot(1,3,2)\n",
    "xlabel('time(sec)')\n",
    "ylabel('Force(Fy)')\n",
    "plot(tvec,fy1)\n",
    "subplot(1,3,3)\n",
    "xlabel('time(sec)')\n",
    "ylabel('Force(Fz)')\n",
    "plot(tvec,fz1)\n",
    "show()"
   ]
  }
 ],
 "metadata": {
  "kernelspec": {
   "display_name": "Python 3",
   "language": "python",
   "name": "python3"
  },
  "language_info": {
   "codemirror_mode": {
    "name": "ipython",
    "version": 3
   },
   "file_extension": ".py",
   "mimetype": "text/x-python",
   "name": "python",
   "nbconvert_exporter": "python",
   "pygments_lexer": "ipython3",
   "version": "3.6.7"
  },
  "latex_envs": {
   "LaTeX_envs_menu_present": true,
   "autoclose": false,
   "autocomplete": true,
   "bibliofile": "biblio.bib",
   "cite_by": "apalike",
   "current_citInitial": 1,
   "eqLabelWithNumbers": true,
   "eqNumInitial": 1,
   "hotkeys": {
    "equation": "Ctrl-E",
    "itemize": "Ctrl-I"
   },
   "labels_anchors": false,
   "latex_user_defs": false,
   "report_style_numbering": false,
   "user_envs_cfg": false
  },
  "toc": {
   "base_numbering": 1,
   "nav_menu": {},
   "number_sections": true,
   "sideBar": true,
   "skip_h1_title": false,
   "title_cell": "Table of Contents",
   "title_sidebar": "Contents",
   "toc_cell": false,
   "toc_position": {},
   "toc_section_display": true,
   "toc_window_display": false
  }
 },
 "nbformat": 4,
 "nbformat_minor": 2
}
